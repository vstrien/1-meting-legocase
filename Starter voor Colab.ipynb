{
  "cells": [
    {
      "cell_type": "code",
      "execution_count": 1,
      "id": "a87a9b11",
      "metadata": {
        "id": "a87a9b11"
      },
      "outputs": [],
      "source": [
        "import pandas as pd"
      ]
    },
    {
      "cell_type": "code",
      "execution_count": 3,
      "id": "a80c992a",
      "metadata": {
        "id": "a80c992a"
      },
      "outputs": [],
      "source": [
        "colors = pd.read_csv(\"https://raw.githubusercontent.com/vstrien/1-meting-legocase/main/dataset/colors.csv\")\n",
        "elements = pd.read_csv(\"https://raw.githubusercontent.com/vstrien/1-meting-legocase/main/dataset/elements.csv\")\n",
        "inventories = pd.read_csv(\"https://raw.githubusercontent.com/vstrien/1-meting-legocase/main/dataset/inventories.csv\")\n",
        "inventory_minifigs = pd.read_csv(\"https://raw.githubusercontent.com/vstrien/1-meting-legocase/main/dataset/inventory_minifigs.csv\")\n",
        "inventory_parts = pd.read_csv(\"https://raw.githubusercontent.com/vstrien/1-meting-legocase/main/dataset/inventory_parts.csv\")\n",
        "inventory_sets = pd.read_csv(\"https://raw.githubusercontent.com/vstrien/1-meting-legocase/main/dataset/inventory_sets.csv\")\n",
        "minifigs = pd.read_csv(\"https://raw.githubusercontent.com/vstrien/1-meting-legocase/main/dataset/minifigs.csv\")\n",
        "parts = pd.read_csv(\"https://raw.githubusercontent.com/vstrien/1-meting-legocase/main/dataset/parts.csv\")\n",
        "part_categories = pd.read_csv(\"https://raw.githubusercontent.com/vstrien/1-meting-legocase/main/dataset/part_categories.csv\")\n",
        "part_relationships = pd.read_csv(\"https://raw.githubusercontent.com/vstrien/1-meting-legocase/main/dataset/part_relationships.csv\")\n",
        "sets = pd.read_csv(\"https://raw.githubusercontent.com/vstrien/1-meting-legocase/main/dataset/sets.csv\")\n",
        "themes = pd.read_csv(\"https://raw.githubusercontent.com/vstrien/1-meting-legocase/main/dataset/themes_hierachie.csv\")"
      ]
    },
    {
      "cell_type": "markdown",
      "id": "9e875963",
      "metadata": {
        "id": "9e875963"
      },
      "source": [
        "## Opgave 1\n",
        "Zorg dat in dataset `sets` ook het thema komt te staan:\n",
        "\n",
        "1. Koppel `themes` aan `sets`. De hiërarchie is al voor je opgelost in deze `themes` set\n",
        "2. Maak een nieuw veld (variabele, kolom) aan dat aangeeft met 0/1 of een set bij het creator-thema hoort"
      ]
    },
    {
      "cell_type": "code",
      "execution_count": null,
      "id": "751898b7",
      "metadata": {
        "id": "751898b7"
      },
      "outputs": [],
      "source": [
        ""
      ]
    },
    {
      "cell_type": "markdown",
      "id": "a4b63054",
      "metadata": {
        "id": "a4b63054"
      },
      "source": [
        "## Opgave 2:"
      ]
    },
    {
      "cell_type": "markdown",
      "id": "ccd118e3",
      "metadata": {
        "id": "ccd118e3"
      },
      "source": [
        "Filter de dataset op basis van je aangemaakte variabele **isCreator**"
      ]
    },
    {
      "cell_type": "code",
      "execution_count": null,
      "id": "1f5b137c",
      "metadata": {
        "id": "1f5b137c"
      },
      "outputs": [],
      "source": [
        ""
      ]
    },
    {
      "cell_type": "markdown",
      "id": "631fab1a",
      "metadata": {
        "id": "631fab1a"
      },
      "source": [
        "## Opgave 3\n",
        "Koppel de databronnen aan elkaar zodat je voor alle sets samen weet welke onderdelen ze bevatten. Je hebt hiervoor de volgende tabellen nodig:\n",
        "\n",
        "* Inventories\n",
        "* Inventory_parts\n",
        "* Parts\n",
        "* Colors\n",
        "\n",
        "Deze tabel is uniek op part_num en Color_id."
      ]
    },
    {
      "cell_type": "code",
      "execution_count": null,
      "id": "c3cdf0d8",
      "metadata": {
        "id": "c3cdf0d8"
      },
      "outputs": [],
      "source": [
        ""
      ]
    },
    {
      "cell_type": "markdown",
      "id": "ac994ec2",
      "metadata": {
        "id": "ac994ec2"
      },
      "source": [
        "## Opgave 4\n",
        "Je bent ook benieuwd hoeveel onderdelen je nu per categorie hebt. Koppel je net gemaakte set aan de tabel ‘Part_Categories’ en tel het aantal onderdelen en sorteer deze tabel van veel naar weinig."
      ]
    },
    {
      "cell_type": "code",
      "execution_count": null,
      "id": "bf3b3f5b",
      "metadata": {
        "id": "bf3b3f5b"
      },
      "outputs": [],
      "source": [
        ""
      ]
    },
    {
      "cell_type": "markdown",
      "id": "9acdc411",
      "metadata": {
        "id": "9acdc411"
      },
      "source": [
        "Van welke categorie heb je de meeste onderdelen?"
      ]
    },
    {
      "cell_type": "code",
      "execution_count": null,
      "id": "76026e8e",
      "metadata": {
        "id": "76026e8e"
      },
      "outputs": [],
      "source": [
        ""
      ]
    },
    {
      "cell_type": "markdown",
      "id": "583f3861",
      "metadata": {
        "id": "583f3861"
      },
      "source": [
        "## Opgave 5\n",
        "\n",
        "Bepaal welke onderdelen er in de set van de Hobby Train zitten (set 10183-1)."
      ]
    },
    {
      "cell_type": "code",
      "execution_count": null,
      "id": "db7f9d51",
      "metadata": {
        "id": "db7f9d51"
      },
      "outputs": [],
      "source": [
        ""
      ]
    },
    {
      "cell_type": "markdown",
      "id": "327e25c6",
      "metadata": {
        "id": "327e25c6"
      },
      "source": [
        "## Opgave 6\n",
        "\n",
        "Match deze set met de set van al je onderdelen van je Creator-verzameling. En maak een nieuwe variabele aan die telt hoeveel je mist van elk onderdeel."
      ]
    },
    {
      "cell_type": "code",
      "execution_count": null,
      "id": "a98521a0",
      "metadata": {
        "id": "a98521a0"
      },
      "outputs": [],
      "source": [
        ""
      ]
    },
    {
      "cell_type": "markdown",
      "id": "d962bc59",
      "metadata": {
        "id": "d962bc59"
      },
      "source": [
        "Wat is de top-5 van de onderdelen die je allemaal al hebt en de bottom-5 welke je nog mist? "
      ]
    },
    {
      "cell_type": "code",
      "execution_count": null,
      "id": "1f053352",
      "metadata": {
        "id": "1f053352"
      },
      "outputs": [],
      "source": [
        ""
      ]
    },
    {
      "cell_type": "markdown",
      "id": "de100614",
      "metadata": {
        "id": "de100614"
      },
      "source": [
        "## Bonus\n",
        "\n",
        "Welke recente set(s) (2017-nu) bevatten jouw ontbrekende steentjes?"
      ]
    },
    {
      "cell_type": "code",
      "execution_count": null,
      "id": "667b17db",
      "metadata": {
        "id": "667b17db"
      },
      "outputs": [],
      "source": [
        ""
      ]
    },
    {
      "cell_type": "markdown",
      "id": "e3b7089e",
      "metadata": {
        "id": "e3b7089e"
      },
      "source": [
        "Weet jij een alternatieve manier om de hoofdvraag te beantwoorden? Zo ja, leg uit welke stappen je zou doorlopen."
      ]
    },
    {
      "cell_type": "code",
      "execution_count": null,
      "id": "b1108650",
      "metadata": {
        "id": "b1108650"
      },
      "outputs": [],
      "source": [
        ""
      ]
    }
  ],
  "metadata": {
    "kernelspec": {
      "display_name": "Python 3",
      "language": "python",
      "name": "python3"
    },
    "language_info": {
      "codemirror_mode": {
        "name": "ipython",
        "version": 3
      },
      "file_extension": ".py",
      "mimetype": "text/x-python",
      "name": "python",
      "nbconvert_exporter": "python",
      "pygments_lexer": "ipython3",
      "version": "3.8.8"
    },
    "colab": {
      "name": "Starter.ipynb",
      "provenance": [],
      "collapsed_sections": []
    }
  },
  "nbformat": 4,
  "nbformat_minor": 5
}