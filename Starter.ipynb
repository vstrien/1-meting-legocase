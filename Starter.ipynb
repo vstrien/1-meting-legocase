{
 "cells": [
  {
   "cell_type": "code",
   "execution_count": 2,
   "id": "a87a9b11",
   "metadata": {},
   "outputs": [],
   "source": [
    "import pandas as pd"
   ]
  },
  {
   "cell_type": "code",
   "execution_count": 9,
   "id": "a80c992a",
   "metadata": {},
   "outputs": [],
   "source": [
    "colors = pd.read_csv(\"dataset/colors.csv\")\n",
    "elements = pd.read_csv(\"dataset/elements.csv\")\n",
    "inventories = pd.read_csv(\"dataset/inventories.csv\")\n",
    "inventory_minifigs = pd.read_csv(\"dataset/inventory_minifigs.csv\")\n",
    "inventory_parts = pd.read_csv(\"dataset/inventory_parts.csv\")\n",
    "inventory_sets = pd.read_csv(\"dataset/inventory_sets.csv\")\n",
    "minifigs = pd.read_csv(\"dataset/minifigs.csv\")\n",
    "parts = pd.read_csv(\"dataset/parts.csv\")\n",
    "part_categories = pd.read_csv(\"dataset/part_categories.csv\")\n",
    "part_relationships = pd.read_csv(\"dataset/part_relationships.csv\")\n",
    "sets = pd.read_csv(\"dataset/sets.csv\")\n",
    "themes = pd.read_csv(\"dataset/themes_hierachie.csv\")"
   ]
  },
  {
   "cell_type": "markdown",
   "id": "9e875963",
   "metadata": {},
   "source": [
    "## Opgave 1\n",
    "Zorg dat in dataset `sets` ook het thema komt te staan:\n",
    "\n",
    "1. Koppel `themes` aan `sets`. De hiërarchie is al voor je opgelost in deze `themes` set\n",
    "2. Maak een nieuw veld (variabele, kolom) aan dat aangeeft met 0/1 of een set bij het creator-thema hoort"
   ]
  },
  {
   "cell_type": "code",
   "execution_count": null,
   "id": "751898b7",
   "metadata": {},
   "outputs": [],
   "source": []
  },
  {
   "cell_type": "markdown",
   "id": "a4b63054",
   "metadata": {},
   "source": [
    "## Opgave 2:"
   ]
  },
  {
   "cell_type": "markdown",
   "id": "ccd118e3",
   "metadata": {},
   "source": [
    "Filter de dataset op basis van je aangemaakte variabele **isCreator**"
   ]
  },
  {
   "cell_type": "code",
   "execution_count": null,
   "id": "1f5b137c",
   "metadata": {},
   "outputs": [],
   "source": []
  },
  {
   "cell_type": "markdown",
   "id": "631fab1a",
   "metadata": {},
   "source": [
    "## Opgave 3\n",
    "Koppel de databronnen aan elkaar zodat je voor alle sets samen weet welke onderdelen ze bevatten. Je hebt hiervoor de volgende tabellen nodig:\n",
    "\n",
    "* Inventories\n",
    "* Inventory_parts\n",
    "* Parts\n",
    "* Colors\n",
    "\n",
    "Deze tabel is uniek op part_num en Color_id."
   ]
  },
  {
   "cell_type": "code",
   "execution_count": null,
   "id": "c3cdf0d8",
   "metadata": {},
   "outputs": [],
   "source": []
  },
  {
   "cell_type": "markdown",
   "id": "ac994ec2",
   "metadata": {},
   "source": [
    "## Opgave 4\n",
    "Je bent ook benieuwd hoeveel onderdelen je nu per categorie hebt. Koppel je net gemaakte set aan de tabel ‘Part_Categories’ en tel het aantal onderdelen en sorteer deze tabel van veel naar weinig."
   ]
  },
  {
   "cell_type": "code",
   "execution_count": null,
   "id": "bf3b3f5b",
   "metadata": {},
   "outputs": [],
   "source": []
  },
  {
   "cell_type": "markdown",
   "id": "9acdc411",
   "metadata": {},
   "source": [
    "Van welke categorie heb je de meeste onderdelen?"
   ]
  },
  {
   "cell_type": "code",
   "execution_count": null,
   "id": "76026e8e",
   "metadata": {},
   "outputs": [],
   "source": []
  },
  {
   "attachments": {},
   "cell_type": "markdown",
   "id": "583f3861",
   "metadata": {},
   "source": [
    "## Opgave 5\n",
    "\n",
    "Bepaal welke onderdelen er in de set van de Hobby Train zitten (set 10183-1)."
   ]
  },
  {
   "cell_type": "code",
   "execution_count": null,
   "id": "db7f9d51",
   "metadata": {},
   "outputs": [],
   "source": []
  },
  {
   "attachments": {},
   "cell_type": "markdown",
   "id": "327e25c6",
   "metadata": {},
   "source": [
    "## Opgave 6\n",
    "\n",
    "Match deze set met de set van al je onderdelen van je Creator-verzameling. En maak een nieuwe variabele aan die telt hoeveel je mist van elk onderdeel."
   ]
  },
  {
   "cell_type": "code",
   "execution_count": null,
   "id": "a98521a0",
   "metadata": {},
   "outputs": [],
   "source": []
  },
  {
   "attachments": {},
   "cell_type": "markdown",
   "id": "d962bc59",
   "metadata": {},
   "source": [
    "Wat is de top-5 van de onderdelen die je allemaal al hebt en de bottom-5 welke je nog mist? "
   ]
  },
  {
   "cell_type": "code",
   "execution_count": null,
   "id": "1f053352",
   "metadata": {},
   "outputs": [],
   "source": []
  },
  {
   "attachments": {},
   "cell_type": "markdown",
   "id": "de100614",
   "metadata": {},
   "source": [
    "## Bonus\n",
    "\n",
    "Welke recente set(s) (2017-nu) bevatten jouw ontbrekende steentjes?"
   ]
  },
  {
   "cell_type": "code",
   "execution_count": null,
   "id": "667b17db",
   "metadata": {},
   "outputs": [],
   "source": []
  },
  {
   "attachments": {},
   "cell_type": "markdown",
   "id": "e3b7089e",
   "metadata": {},
   "source": [
    "Weet jij een alternatieve manier om de hoofdvraag te beantwoorden? Zo ja, leg uit welke stappen je zou doorlopen."
   ]
  },
  {
   "cell_type": "code",
   "execution_count": null,
   "id": "b1108650",
   "metadata": {},
   "outputs": [],
   "source": []
  }
 ],
 "metadata": {
  "kernelspec": {
   "display_name": "Python 3",
   "language": "python",
   "name": "python3"
  },
  "language_info": {
   "codemirror_mode": {
    "name": "ipython",
    "version": 3
   },
   "file_extension": ".py",
   "mimetype": "text/x-python",
   "name": "python",
   "nbconvert_exporter": "python",
   "pygments_lexer": "ipython3",
   "version": "3.8.8"
  }
 },
 "nbformat": 4,
 "nbformat_minor": 5
}
