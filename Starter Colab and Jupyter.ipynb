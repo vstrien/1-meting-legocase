{
  "cells": [
    {
      "cell_type": "code",
      "execution_count": 1,
      "id": "a87a9b11",
      "metadata": {
        "id": "a87a9b11"
      },
      "outputs": [],
      "source": [
        "import pandas as pd"
      ]
    },
    {
      "cell_type": "code",
      "execution_count": 3,
      "id": "a80c992a",
      "metadata": {
        "id": "a80c992a"
      },
      "outputs": [],
      "source": [
        "colors = pd.read_csv(\"https://raw.githubusercontent.com/vstrien/1-meting-legocase/main/dataset/colors.csv\")\n",
        "elements = pd.read_csv(\"https://raw.githubusercontent.com/vstrien/1-meting-legocase/main/dataset/elements.csv\")\n",
        "inventories = pd.read_csv(\"https://raw.githubusercontent.com/vstrien/1-meting-legocase/main/dataset/inventories.csv\")\n",
        "inventory_minifigs = pd.read_csv(\"https://raw.githubusercontent.com/vstrien/1-meting-legocase/main/dataset/inventory_minifigs.csv\")\n",
        "inventory_parts = pd.read_csv(\"https://raw.githubusercontent.com/vstrien/1-meting-legocase/main/dataset/inventory_parts.csv\")\n",
        "inventory_sets = pd.read_csv(\"https://raw.githubusercontent.com/vstrien/1-meting-legocase/main/dataset/inventory_sets.csv\")\n",
        "minifigs = pd.read_csv(\"https://raw.githubusercontent.com/vstrien/1-meting-legocase/main/dataset/minifigs.csv\")\n",
        "parts = pd.read_csv(\"https://raw.githubusercontent.com/vstrien/1-meting-legocase/main/dataset/parts.csv\")\n",
        "part_categories = pd.read_csv(\"https://raw.githubusercontent.com/vstrien/1-meting-legocase/main/dataset/part_categories.csv\")\n",
        "part_relationships = pd.read_csv(\"https://raw.githubusercontent.com/vstrien/1-meting-legocase/main/dataset/part_relationships.csv\")\n",
        "sets = pd.read_csv(\"https://raw.githubusercontent.com/vstrien/1-meting-legocase/main/dataset/sets.csv\")\n",
        "themes = pd.read_csv(\"https://raw.githubusercontent.com/vstrien/1-meting-legocase/main/dataset/themes_hierachie.csv\")"
      ]
    },
    {
      "attachments": {},
      "cell_type": "markdown",
      "id": "9e875963",
      "metadata": {
        "id": "9e875963"
      },
      "source": [
        "## Assignment 1\n",
        "Make sure that the theme is also included in dataset `sets`:\n",
        "\n",
        "1. Link `themes` to `sets`. The hierarchy is already solved for you in this `themes` set\n",
        "2. Create a new field (variable, column) that indicates with 0/1 if a set belongs to the Creator theme"
      ]
    },
    {
      "cell_type": "code",
      "execution_count": null,
      "id": "751898b7",
      "metadata": {
        "id": "751898b7"
      },
      "outputs": [],
      "source": []
    },
    {
      "attachments": {},
      "cell_type": "markdown",
      "id": "42899186",
      "metadata": {},
      "source": [
        "Question: What % of all sets do you own?"
      ]
    },
    {
      "cell_type": "code",
      "execution_count": null,
      "id": "69a65e4f",
      "metadata": {},
      "outputs": [],
      "source": []
    },
    {
      "attachments": {},
      "cell_type": "markdown",
      "id": "a4b63054",
      "metadata": {
        "id": "a4b63054"
      },
      "source": [
        "## Question 2:"
      ]
    },
    {
      "attachments": {},
      "cell_type": "markdown",
      "id": "ccd118e3",
      "metadata": {
        "id": "ccd118e3"
      },
      "source": [
        "Filter the dataset based on your created variable **isCreator**"
      ]
    },
    {
      "cell_type": "code",
      "execution_count": null,
      "id": "1f5b137c",
      "metadata": {
        "id": "1f5b137c"
      },
      "outputs": [],
      "source": []
    },
    {
      "attachments": {},
      "cell_type": "markdown",
      "id": "631fab1a",
      "metadata": {
        "id": "631fab1a"
      },
      "source": [
        "Link the data sources together so that you know which parts it contains for all sets together. \n",
        "\n",
        "You need the following tables for this:\n",
        "\n",
        "* Inventories\n",
        "* Inventory_parts\n",
        "* Parts\n",
        "* Colors\n",
        "\n",
        "This table is unique on `part_num` and `Color_id`"
      ]
    },
    {
      "cell_type": "code",
      "execution_count": null,
      "id": "c3cdf0d8",
      "metadata": {
        "id": "c3cdf0d8"
      },
      "outputs": [],
      "source": []
    },
    {
      "attachments": {},
      "cell_type": "markdown",
      "id": "ac994ec2",
      "metadata": {
        "id": "ac994ec2"
      },
      "source": [
        "## Question 3\n",
        "You are also curious how many parts you now have per category. Link your just created table to the table `Parts_Categories` and count the number of parts and sort this table descending."
      ]
    },
    {
      "cell_type": "code",
      "execution_count": null,
      "id": "bf3b3f5b",
      "metadata": {
        "id": "bf3b3f5b"
      },
      "outputs": [],
      "source": []
    },
    {
      "attachments": {},
      "cell_type": "markdown",
      "id": "9acdc411",
      "metadata": {
        "id": "9acdc411"
      },
      "source": [
        "Which category do you have the most parts from?"
      ]
    },
    {
      "cell_type": "code",
      "execution_count": null,
      "id": "76026e8e",
      "metadata": {
        "id": "76026e8e"
      },
      "outputs": [],
      "source": []
    },
    {
      "attachments": {},
      "cell_type": "markdown",
      "id": "57801604",
      "metadata": {},
      "source": [
        "What is the average number of tiles per creator set?"
      ]
    },
    {
      "cell_type": "code",
      "execution_count": null,
      "id": "de848860",
      "metadata": {},
      "outputs": [],
      "source": []
    },
    {
      "attachments": {},
      "cell_type": "markdown",
      "id": "583f3861",
      "metadata": {
        "id": "583f3861"
      },
      "source": [
        "## Question 4\n",
        "\n",
        "Determine which parts are included in the Hobby Train set (set 10183-1)."
      ]
    },
    {
      "cell_type": "code",
      "execution_count": null,
      "id": "db7f9d51",
      "metadata": {
        "id": "db7f9d51"
      },
      "outputs": [],
      "source": []
    },
    {
      "attachments": {},
      "cell_type": "markdown",
      "id": "327e25c6",
      "metadata": {
        "id": "327e25c6"
      },
      "source": [
        "Match this table with the table of all your Creator Collection items. Create a new variable that counts how much you miss of each part."
      ]
    },
    {
      "cell_type": "code",
      "execution_count": null,
      "id": "a98521a0",
      "metadata": {
        "id": "a98521a0"
      },
      "outputs": [],
      "source": []
    },
    {
      "attachments": {},
      "cell_type": "markdown",
      "id": "d962bc59",
      "metadata": {
        "id": "d962bc59"
      },
      "source": [
        "How many % of all required stones are you still missing?\n"
      ]
    },
    {
      "cell_type": "code",
      "execution_count": null,
      "id": "1f053352",
      "metadata": {
        "id": "1f053352",
        "vscode": {
          "languageId": "plaintext"
        }
      },
      "outputs": [],
      "source": []
    },
    {
      "cell_type": "markdown",
      "id": "f78ee0a2",
      "metadata": {},
      "source": [
        "What is the top 5 of the parts that you already have and the bottom 5 that you are still missing?"
      ]
    },
    {
      "cell_type": "code",
      "execution_count": null,
      "id": "39d8abe6",
      "metadata": {
        "vscode": {
          "languageId": "plaintext"
        }
      },
      "outputs": [],
      "source": []
    },
    {
      "attachments": {},
      "cell_type": "markdown",
      "id": "de100614",
      "metadata": {
        "id": "de100614"
      },
      "source": [
        "## Bonus\n",
        "\n",
        "You bought every set from the “Creator” theme in the year it came out. \n",
        "Make an overview per year of which parts you received."
      ]
    },
    {
      "cell_type": "code",
      "execution_count": null,
      "id": "667b17db",
      "metadata": {
        "id": "667b17db"
      },
      "outputs": [],
      "source": []
    },
    {
      "attachments": {},
      "cell_type": "markdown",
      "id": "706b7ff6",
      "metadata": {},
      "source": [
        "Make a list of unique parts that only appear in one set."
      ]
    },
    {
      "cell_type": "code",
      "execution_count": null,
      "id": "224b2d16",
      "metadata": {},
      "outputs": [],
      "source": []
    },
    {
      "attachments": {},
      "cell_type": "markdown",
      "id": "0b733921",
      "metadata": {},
      "source": [
        "Which recent set(s) (2017-now) contain the most parts you still need?"
      ]
    },
    {
      "cell_type": "code",
      "execution_count": null,
      "id": "c88a94ce",
      "metadata": {},
      "outputs": [],
      "source": []
    },
    {
      "attachments": {},
      "cell_type": "markdown",
      "id": "3582f8ef",
      "metadata": {},
      "source": [
        "Is this set still available? Answer this last question by scraping the LEGO website (tip: BeautifulSoup)"
      ]
    },
    {
      "cell_type": "code",
      "execution_count": null,
      "id": "b194905c",
      "metadata": {},
      "outputs": [],
      "source": []
    },
    {
      "attachments": {},
      "cell_type": "markdown",
      "id": "e3b7089e",
      "metadata": {
        "id": "e3b7089e"
      },
      "source": [
        "Do you know any alternative ways to answer the main question? If so, please explain how to do this."
      ]
    },
    {
      "cell_type": "code",
      "execution_count": null,
      "id": "b1108650",
      "metadata": {
        "id": "b1108650"
      },
      "outputs": [],
      "source": []
    }
  ],
  "metadata": {
    "colab": {
      "collapsed_sections": [],
      "name": "Starter.ipynb",
      "provenance": []
    },
    "kernelspec": {
      "display_name": "Python 3",
      "language": "python",
      "name": "python3"
    },
    "language_info": {
      "codemirror_mode": {
        "name": "ipython",
        "version": 3
      },
      "file_extension": ".py",
      "mimetype": "text/x-python",
      "name": "python",
      "nbconvert_exporter": "python",
      "pygments_lexer": "ipython3",
      "version": "3.8.8"
    }
  },
  "nbformat": 4,
  "nbformat_minor": 5
}
