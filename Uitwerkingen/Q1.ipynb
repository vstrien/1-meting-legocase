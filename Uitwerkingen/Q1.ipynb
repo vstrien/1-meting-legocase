{
  "cells": [
    {
      "cell_type": "code",
      "execution_count": 2,
      "id": "a87a9b11",
      "metadata": {
        "id": "a87a9b11"
      },
      "outputs": [],
      "source": [
        "import pandas as pd"
      ]
    },
    {
      "attachments": {},
      "cell_type": "markdown",
      "id": "9e875963",
      "metadata": {
        "id": "9e875963"
      },
      "source": [
        "## Question 1\n",
        "Make sure that the theme is also included in dataset `sets`:\n",
        "\n",
        "1. Load the CSV data into dataframes. Be sure to load every file in a separate variable so you can analyze them easily.  \n",
        "   The URLs for the files reside are as follows, one for each table:\n",
        "   * `https://github.com/wortell-smart-learning/lego-casus/raw/main/dataset/colors.csv`\n",
        "   * `https://github.com/wortell-smart-learning/lego-casus/raw/main/dataset/elements.csv`\n",
        "   * `https://github.com/wortell-smart-learning/lego-casus/raw/main/dataset/inventories.csv`\n",
        "   * `https://github.com/wortell-smart-learning/lego-casus/raw/main/dataset/inventory_minifigs.csv`\n",
        "   * `https://github.com/wortell-smart-learning/lego-casus/raw/main/dataset/inventory_parts.csv`\n",
        "   * `https://github.com/wortell-smart-learning/lego-casus/raw/main/dataset/inventory_sets.csv`\n",
        "   * `https://github.com/wortell-smart-learning/lego-casus/raw/main/dataset/minifigs.csv`\n",
        "   * `https://github.com/wortell-smart-learning/lego-casus/raw/main/dataset/parts.csv`\n",
        "   * `https://github.com/wortell-smart-learning/lego-casus/raw/main/dataset/part_categories.csv`\n",
        "   * `https://github.com/wortell-smart-learning/lego-casus/raw/main/dataset/part_relationships.csv`\n",
        "   * `https://github.com/wortell-smart-learning/lego-casus/raw/main/dataset/sets.csv`\n",
        "   * `https://github.com/wortell-smart-learning/lego-casus/raw/main/dataset/themes_hierachie.csv`\n",
        "2. Link `themes` to `sets`. The hierarchy is already solved for you in this `themes` set\n",
        "3. Create a new field (variable, column) that indicates with 0/1 if a set belongs to the Creator theme\n",
        "\n",
        "When reading all files at once in one script, you might see an error because of throttling at GitHub.\n",
        "The solution to this it to split the script into multiple cells, each of which load a part of the data."
      ]
    },
    {
      "cell_type": "code",
      "execution_count": 3,
      "metadata": {},
      "outputs": [],
      "source": [
        "# Reading data from a CSV file: pd.read_csv\n",
        "# All tables go into their own separate dataframe and variable\n",
        "colors = pd.read_csv(\"https://github.com/wortell-smart-learning/lego-casus/raw/main/dataset/colors.csv\")\n",
        "elements = pd.read_csv(\"https://github.com/wortell-smart-learning/lego-casus/raw/main/dataset/elements.csv\")\n",
        "inventories = pd.read_csv(\"https://github.com/wortell-smart-learning/lego-casus/raw/main/dataset/inventories.csv\")\n",
        "inventory_minifigs = pd.read_csv(\"https://github.com/wortell-smart-learning/lego-casus/raw/main/dataset/inventory_minifigs.csv\")\n",
        "inventory_parts = pd.read_csv(\"https://github.com/wortell-smart-learning/lego-casus/raw/main/dataset/inventory_parts.csv\")\n",
        "inventory_sets = pd.read_csv(\"https://github.com/wortell-smart-learning/lego-casus/raw/main/dataset/inventory_sets.csv\")\n",
        "minifigs = pd.read_csv(\"https://github.com/wortell-smart-learning/lego-casus/raw/main/dataset/minifigs.csv\")\n",
        "parts = pd.read_csv(\"https://github.com/wortell-smart-learning/lego-casus/raw/main/dataset/parts.csv\")\n",
        "part_categories = pd.read_csv(\"https://github.com/wortell-smart-learning/lego-casus/raw/main/dataset/part_categories.csv\")\n",
        "part_relationships = pd.read_csv(\"https://github.com/wortell-smart-learning/lego-casus/raw/main/dataset/part_relationships.csv\")\n",
        "sets = pd.read_csv(\"https://github.com/wortell-smart-learning/lego-casus/raw/main/dataset/sets.csv\")\n",
        "themes = pd.read_csv(\"https://github.com/wortell-smart-learning/lego-casus/raw/main/dataset/themes_hierachie.csv\")"
      ]
    },
    {
      "cell_type": "code",
      "execution_count": 4,
      "id": "751898b7",
      "metadata": {
        "id": "751898b7"
      },
      "outputs": [
        {
          "data": {
            "text/html": [
              "<div>\n",
              "<style scoped>\n",
              "    .dataframe tbody tr th:only-of-type {\n",
              "        vertical-align: middle;\n",
              "    }\n",
              "\n",
              "    .dataframe tbody tr th {\n",
              "        vertical-align: top;\n",
              "    }\n",
              "\n",
              "    .dataframe thead th {\n",
              "        text-align: right;\n",
              "    }\n",
              "</style>\n",
              "<table border=\"1\" class=\"dataframe\">\n",
              "  <thead>\n",
              "    <tr style=\"text-align: right;\">\n",
              "      <th></th>\n",
              "      <th>id</th>\n",
              "      <th>name_x</th>\n",
              "      <th>parent_name</th>\n",
              "      <th>set_num</th>\n",
              "      <th>name_y</th>\n",
              "      <th>year</th>\n",
              "      <th>theme_id</th>\n",
              "      <th>num_parts</th>\n",
              "    </tr>\n",
              "  </thead>\n",
              "  <tbody>\n",
              "    <tr>\n",
              "      <th>0</th>\n",
              "      <td>1</td>\n",
              "      <td>Technic</td>\n",
              "      <td>Technic</td>\n",
              "      <td>001-1</td>\n",
              "      <td>Gears</td>\n",
              "      <td>1965</td>\n",
              "      <td>1</td>\n",
              "      <td>43</td>\n",
              "    </tr>\n",
              "    <tr>\n",
              "      <th>1</th>\n",
              "      <td>1</td>\n",
              "      <td>Technic</td>\n",
              "      <td>Technic</td>\n",
              "      <td>002-1</td>\n",
              "      <td>4.5V Samsonite Gears Motor Set</td>\n",
              "      <td>1965</td>\n",
              "      <td>1</td>\n",
              "      <td>3</td>\n",
              "    </tr>\n",
              "    <tr>\n",
              "      <th>2</th>\n",
              "      <td>1</td>\n",
              "      <td>Technic</td>\n",
              "      <td>Technic</td>\n",
              "      <td>1030-1</td>\n",
              "      <td>TECHNIC I: Simple Machines Set</td>\n",
              "      <td>1985</td>\n",
              "      <td>1</td>\n",
              "      <td>191</td>\n",
              "    </tr>\n",
              "    <tr>\n",
              "      <th>3</th>\n",
              "      <td>1</td>\n",
              "      <td>Technic</td>\n",
              "      <td>Technic</td>\n",
              "      <td>1038-1</td>\n",
              "      <td>ERBIE the Robo-Car</td>\n",
              "      <td>1985</td>\n",
              "      <td>1</td>\n",
              "      <td>120</td>\n",
              "    </tr>\n",
              "    <tr>\n",
              "      <th>4</th>\n",
              "      <td>1</td>\n",
              "      <td>Technic</td>\n",
              "      <td>Technic</td>\n",
              "      <td>1039-1</td>\n",
              "      <td>Manual Control Set 1</td>\n",
              "      <td>1986</td>\n",
              "      <td>1</td>\n",
              "      <td>39</td>\n",
              "    </tr>\n",
              "    <tr>\n",
              "      <th>5</th>\n",
              "      <td>1</td>\n",
              "      <td>Technic</td>\n",
              "      <td>Technic</td>\n",
              "      <td>1168-1</td>\n",
              "      <td>Battery Box</td>\n",
              "      <td>1986</td>\n",
              "      <td>1</td>\n",
              "      <td>1</td>\n",
              "    </tr>\n",
              "    <tr>\n",
              "      <th>6</th>\n",
              "      <td>1</td>\n",
              "      <td>Technic</td>\n",
              "      <td>Technic</td>\n",
              "      <td>1314-1</td>\n",
              "      <td>Stop bush / Small pulley</td>\n",
              "      <td>1987</td>\n",
              "      <td>1</td>\n",
              "      <td>210</td>\n",
              "    </tr>\n",
              "    <tr>\n",
              "      <th>7</th>\n",
              "      <td>1</td>\n",
              "      <td>Technic</td>\n",
              "      <td>Technic</td>\n",
              "      <td>1315-1</td>\n",
              "      <td>Piston Rod</td>\n",
              "      <td>1987</td>\n",
              "      <td>1</td>\n",
              "      <td>50</td>\n",
              "    </tr>\n",
              "    <tr>\n",
              "      <th>8</th>\n",
              "      <td>1</td>\n",
              "      <td>Technic</td>\n",
              "      <td>Technic</td>\n",
              "      <td>1316-1</td>\n",
              "      <td>Connector peg</td>\n",
              "      <td>1987</td>\n",
              "      <td>1</td>\n",
              "      <td>150</td>\n",
              "    </tr>\n",
              "    <tr>\n",
              "      <th>9</th>\n",
              "      <td>1</td>\n",
              "      <td>Technic</td>\n",
              "      <td>Technic</td>\n",
              "      <td>1317-1</td>\n",
              "      <td>TECHNIC Chainlinks</td>\n",
              "      <td>1987</td>\n",
              "      <td>1</td>\n",
              "      <td>350</td>\n",
              "    </tr>\n",
              "  </tbody>\n",
              "</table>\n",
              "</div>"
            ],
            "text/plain": [
              "   id   name_x parent_name set_num                          name_y  year   \n",
              "0   1  Technic     Technic   001-1                           Gears  1965  \\\n",
              "1   1  Technic     Technic   002-1  4.5V Samsonite Gears Motor Set  1965   \n",
              "2   1  Technic     Technic  1030-1  TECHNIC I: Simple Machines Set  1985   \n",
              "3   1  Technic     Technic  1038-1              ERBIE the Robo-Car  1985   \n",
              "4   1  Technic     Technic  1039-1            Manual Control Set 1  1986   \n",
              "5   1  Technic     Technic  1168-1                     Battery Box  1986   \n",
              "6   1  Technic     Technic  1314-1        Stop bush / Small pulley  1987   \n",
              "7   1  Technic     Technic  1315-1                      Piston Rod  1987   \n",
              "8   1  Technic     Technic  1316-1                   Connector peg  1987   \n",
              "9   1  Technic     Technic  1317-1              TECHNIC Chainlinks  1987   \n",
              "\n",
              "   theme_id  num_parts  \n",
              "0         1         43  \n",
              "1         1          3  \n",
              "2         1        191  \n",
              "3         1        120  \n",
              "4         1         39  \n",
              "5         1          1  \n",
              "6         1        210  \n",
              "7         1         50  \n",
              "8         1        150  \n",
              "9         1        350  "
            ]
          },
          "execution_count": 4,
          "metadata": {},
          "output_type": "execute_result"
        }
      ],
      "source": [
        "# link themes to sets\n",
        "themes_sets = themes.merge(sets, left_on='id', right_on='theme_id')\n",
        "themes_sets.head(10) # Display top 10 rows to show the result"
      ]
    },
    {
      "cell_type": "markdown",
      "metadata": {},
      "source": [
        "### Before we continue\n",
        "There are apparently two \"theme\" columns in the table `themes`:\n",
        "\n",
        "* name (now renamed to `name_x` to avoid ambiguous column names)\n",
        "* parent_name\n",
        "\n",
        "From the data model we know already that this was (once) a parent-child hierarchy - let's do some further analysis:"
      ]
    },
    {
      "cell_type": "code",
      "execution_count": 23,
      "metadata": {},
      "outputs": [
        {
          "name": "stdout",
          "output_type": "stream",
          "text": [
            "Number of sets with parent_name Creator:  540\n",
            "Number of sets with name_x Creator:  124\n",
            "Values for parent_name when child_name is Creator:  name_x\n",
            "Creator    124\n",
            "Name: count, dtype: int64\n",
            "Values for child name when parent_name is Creator:  name_x\n",
            "Creator 3-in-1    182\n",
            "Basic Set         120\n",
            "Creator            92\n",
            "Creator Expert     58\n",
            "Early Creator      29\n",
            "Supplemental       22\n",
            "Food & Drink       16\n",
            "Basic Model         8\n",
            "Creature            5\n",
            "Construction        3\n",
            "Traffic             3\n",
            "Castle              1\n",
            "Building            1\n",
            "Name: count, dtype: int64\n"
          ]
        }
      ],
      "source": [
        "print(\"Number of sets with parent_name Creator: \", themes_sets.query('parent_name == \"Creator\"')[\"id\"].count()) # Count the number of sets with parent_name Creator\n",
        "print(\"Number of sets with name_x Creator: \", themes_sets.query('name_x == \"Creator\"')[\"id\"].count()) # Count the number of sets with name_x Creator\n",
        "print(\"Values for parent_name when child_name is Creator: \", themes_sets.query('name_x == \"Creator\"')[\"name_x\"].value_counts())\n",
        "print(\"Values for child name when parent_name is Creator: \", themes_sets.query('parent_name == \"Creator\"')[\"name_x\"].value_counts())\n"
      ]
    },
    {
      "cell_type": "markdown",
      "metadata": {},
      "source": [
        "Based on this analysis, we can state that:\n",
        "\n",
        "* When name_x is 'Creator', parent_name is also 'Creator'\n",
        "* When parent_name is 'Creator', name_x can be different values, for example:\n",
        "  * Early Creator\n",
        "  * Creator Expert\n",
        "  * Creator 3-in-1\n",
        "  * Basic Set\n",
        "\n",
        "We can safely assume that all of these still are \"Creator\" sets, but have some sub-theme.\n",
        "Therefor, the filter should be on `parent_name`"
      ]
    },
    {
      "cell_type": "code",
      "execution_count": 12,
      "metadata": {},
      "outputs": [],
      "source": [
        "# Create a new field that indicates with 0/1 if a set belongs to the Creator theme\n",
        "themes_sets['is_creator'] = (themes_sets['parent_name'] == 'Creator').astype(int)"
      ]
    },
    {
      "cell_type": "code",
      "execution_count": 13,
      "metadata": {},
      "outputs": [
        {
          "data": {
            "text/html": [
              "<div>\n",
              "<style scoped>\n",
              "    .dataframe tbody tr th:only-of-type {\n",
              "        vertical-align: middle;\n",
              "    }\n",
              "\n",
              "    .dataframe tbody tr th {\n",
              "        vertical-align: top;\n",
              "    }\n",
              "\n",
              "    .dataframe thead th {\n",
              "        text-align: right;\n",
              "    }\n",
              "</style>\n",
              "<table border=\"1\" class=\"dataframe\">\n",
              "  <thead>\n",
              "    <tr style=\"text-align: right;\">\n",
              "      <th></th>\n",
              "      <th>id</th>\n",
              "      <th>name_x</th>\n",
              "      <th>parent_name</th>\n",
              "      <th>set_num</th>\n",
              "      <th>name_y</th>\n",
              "      <th>year</th>\n",
              "      <th>theme_id</th>\n",
              "      <th>num_parts</th>\n",
              "      <th>is_creator</th>\n",
              "    </tr>\n",
              "  </thead>\n",
              "  <tbody>\n",
              "    <tr>\n",
              "      <th>580</th>\n",
              "      <td>22</td>\n",
              "      <td>Creator</td>\n",
              "      <td>Creator</td>\n",
              "      <td>10664-1</td>\n",
              "      <td>Creative Tower</td>\n",
              "      <td>2013</td>\n",
              "      <td>22</td>\n",
              "      <td>1600</td>\n",
              "      <td>1</td>\n",
              "    </tr>\n",
              "    <tr>\n",
              "      <th>581</th>\n",
              "      <td>22</td>\n",
              "      <td>Creator</td>\n",
              "      <td>Creator</td>\n",
              "      <td>11938-1</td>\n",
              "      <td>Robot</td>\n",
              "      <td>2020</td>\n",
              "      <td>22</td>\n",
              "      <td>45</td>\n",
              "      <td>1</td>\n",
              "    </tr>\n",
              "    <tr>\n",
              "      <th>582</th>\n",
              "      <td>22</td>\n",
              "      <td>Creator</td>\n",
              "      <td>Creator</td>\n",
              "      <td>11939-1</td>\n",
              "      <td>Octopus</td>\n",
              "      <td>2020</td>\n",
              "      <td>22</td>\n",
              "      <td>63</td>\n",
              "      <td>1</td>\n",
              "    </tr>\n",
              "    <tr>\n",
              "      <th>583</th>\n",
              "      <td>22</td>\n",
              "      <td>Creator</td>\n",
              "      <td>Creator</td>\n",
              "      <td>11940-1</td>\n",
              "      <td>Fortress</td>\n",
              "      <td>2020</td>\n",
              "      <td>22</td>\n",
              "      <td>52</td>\n",
              "      <td>1</td>\n",
              "    </tr>\n",
              "    <tr>\n",
              "      <th>584</th>\n",
              "      <td>22</td>\n",
              "      <td>Creator</td>\n",
              "      <td>Creator</td>\n",
              "      <td>11941-1</td>\n",
              "      <td>Frog</td>\n",
              "      <td>2020</td>\n",
              "      <td>22</td>\n",
              "      <td>56</td>\n",
              "      <td>1</td>\n",
              "    </tr>\n",
              "  </tbody>\n",
              "</table>\n",
              "</div>"
            ],
            "text/plain": [
              "     id   name_x parent_name  set_num          name_y  year  theme_id   \n",
              "580  22  Creator     Creator  10664-1  Creative Tower  2013        22  \\\n",
              "581  22  Creator     Creator  11938-1           Robot  2020        22   \n",
              "582  22  Creator     Creator  11939-1         Octopus  2020        22   \n",
              "583  22  Creator     Creator  11940-1        Fortress  2020        22   \n",
              "584  22  Creator     Creator  11941-1            Frog  2020        22   \n",
              "\n",
              "     num_parts  is_creator  \n",
              "580       1600           1  \n",
              "581         45           1  \n",
              "582         63           1  \n",
              "583         52           1  \n",
              "584         56           1  "
            ]
          },
          "execution_count": 13,
          "metadata": {},
          "output_type": "execute_result"
        }
      ],
      "source": [
        "themes_sets.query('is_creator == 1').head(5) # 5 examples for rows with creator theme"
      ]
    },
    {
      "cell_type": "code",
      "execution_count": 14,
      "metadata": {},
      "outputs": [
        {
          "data": {
            "text/html": [
              "<div>\n",
              "<style scoped>\n",
              "    .dataframe tbody tr th:only-of-type {\n",
              "        vertical-align: middle;\n",
              "    }\n",
              "\n",
              "    .dataframe tbody tr th {\n",
              "        vertical-align: top;\n",
              "    }\n",
              "\n",
              "    .dataframe thead th {\n",
              "        text-align: right;\n",
              "    }\n",
              "</style>\n",
              "<table border=\"1\" class=\"dataframe\">\n",
              "  <thead>\n",
              "    <tr style=\"text-align: right;\">\n",
              "      <th></th>\n",
              "      <th>id</th>\n",
              "      <th>name_x</th>\n",
              "      <th>parent_name</th>\n",
              "      <th>set_num</th>\n",
              "      <th>name_y</th>\n",
              "      <th>year</th>\n",
              "      <th>theme_id</th>\n",
              "      <th>num_parts</th>\n",
              "      <th>is_creator</th>\n",
              "    </tr>\n",
              "  </thead>\n",
              "  <tbody>\n",
              "    <tr>\n",
              "      <th>0</th>\n",
              "      <td>1</td>\n",
              "      <td>Technic</td>\n",
              "      <td>Technic</td>\n",
              "      <td>001-1</td>\n",
              "      <td>Gears</td>\n",
              "      <td>1965</td>\n",
              "      <td>1</td>\n",
              "      <td>43</td>\n",
              "      <td>0</td>\n",
              "    </tr>\n",
              "    <tr>\n",
              "      <th>1</th>\n",
              "      <td>1</td>\n",
              "      <td>Technic</td>\n",
              "      <td>Technic</td>\n",
              "      <td>002-1</td>\n",
              "      <td>4.5V Samsonite Gears Motor Set</td>\n",
              "      <td>1965</td>\n",
              "      <td>1</td>\n",
              "      <td>3</td>\n",
              "      <td>0</td>\n",
              "    </tr>\n",
              "    <tr>\n",
              "      <th>2</th>\n",
              "      <td>1</td>\n",
              "      <td>Technic</td>\n",
              "      <td>Technic</td>\n",
              "      <td>1030-1</td>\n",
              "      <td>TECHNIC I: Simple Machines Set</td>\n",
              "      <td>1985</td>\n",
              "      <td>1</td>\n",
              "      <td>191</td>\n",
              "      <td>0</td>\n",
              "    </tr>\n",
              "    <tr>\n",
              "      <th>3</th>\n",
              "      <td>1</td>\n",
              "      <td>Technic</td>\n",
              "      <td>Technic</td>\n",
              "      <td>1038-1</td>\n",
              "      <td>ERBIE the Robo-Car</td>\n",
              "      <td>1985</td>\n",
              "      <td>1</td>\n",
              "      <td>120</td>\n",
              "      <td>0</td>\n",
              "    </tr>\n",
              "    <tr>\n",
              "      <th>4</th>\n",
              "      <td>1</td>\n",
              "      <td>Technic</td>\n",
              "      <td>Technic</td>\n",
              "      <td>1039-1</td>\n",
              "      <td>Manual Control Set 1</td>\n",
              "      <td>1986</td>\n",
              "      <td>1</td>\n",
              "      <td>39</td>\n",
              "      <td>0</td>\n",
              "    </tr>\n",
              "  </tbody>\n",
              "</table>\n",
              "</div>"
            ],
            "text/plain": [
              "   id   name_x parent_name set_num                          name_y  year   \n",
              "0   1  Technic     Technic   001-1                           Gears  1965  \\\n",
              "1   1  Technic     Technic   002-1  4.5V Samsonite Gears Motor Set  1965   \n",
              "2   1  Technic     Technic  1030-1  TECHNIC I: Simple Machines Set  1985   \n",
              "3   1  Technic     Technic  1038-1              ERBIE the Robo-Car  1985   \n",
              "4   1  Technic     Technic  1039-1            Manual Control Set 1  1986   \n",
              "\n",
              "   theme_id  num_parts  is_creator  \n",
              "0         1         43           0  \n",
              "1         1          3           0  \n",
              "2         1        191           0  \n",
              "3         1        120           0  \n",
              "4         1         39           0  "
            ]
          },
          "execution_count": 14,
          "metadata": {},
          "output_type": "execute_result"
        }
      ],
      "source": [
        "themes_sets.query('is_creator == 0').head(5) # 5 examples for rows without creator theme"
      ]
    },
    {
      "cell_type": "code",
      "execution_count": 22,
      "metadata": {},
      "outputs": [
        {
          "data": {
            "text/plain": [
              "name_x\n",
              "Creator 3-in-1    182\n",
              "Basic Set         120\n",
              "Creator Expert     58\n",
              "Early Creator      29\n",
              "Supplemental       22\n",
              "Food & Drink       16\n",
              "Basic Model         8\n",
              "Creature            5\n",
              "Construction        3\n",
              "Traffic             3\n",
              "Castle              1\n",
              "Building            1\n",
              "Name: count, dtype: int64"
            ]
          },
          "execution_count": 22,
          "metadata": {},
          "output_type": "execute_result"
        }
      ],
      "source": [
        "themes_sets.query('is_creator == 0 and parent_name == \"Creator\"') # Check if there are rows with is_creator == 0 and parent_name == 'Creator'"
      ]
    },
    {
      "attachments": {},
      "cell_type": "markdown",
      "id": "42899186",
      "metadata": {},
      "source": [
        "Question: What % of all sets do you own?"
      ]
    },
    {
      "cell_type": "code",
      "execution_count": 24,
      "id": "69a65e4f",
      "metadata": {},
      "outputs": [
        {
          "name": "stdout",
          "output_type": "stream",
          "text": [
            "Number of sets that belong to the Creator theme: 540\n",
            "Total number of sets: 17835\n",
            "Percentage of total sets owned: 3.03\n"
          ]
        }
      ],
      "source": [
        "num_creator_sets = themes_sets['is_creator'].sum()\n",
        "print(\"Number of sets that belong to the Creator theme:\", num_creator_sets)\n",
        "num_total_sets = len(themes_sets)\n",
        "print(\"Total number of sets:\", num_total_sets)\n",
        "print(f\"Percentage of total sets owned: {num_creator_sets / num_total_sets * 100:.2f}\")"
      ]
    },
    {
      "cell_type": "markdown",
      "metadata": {},
      "source": [
        "Three things to note:\n",
        "\n",
        "1. Because the `is_creator` is a number, we can add it to get the number of creator sets\n",
        "2. I've used a *format string*. Basically the following three expressions yield the same result:\n",
        "```python\n",
        "print(\"Perc of sets owned:\", (num_creator_sets / num_total_sets * 100))\n",
        "print(\"Perc of sets owned: {placeholder}\".format( placeholder=(num_creator_sets / num_total_sets * 100))) # You can use any name instead of placeholder, of cours\n",
        "print(f\"Perc of sets owned: {(num_creator_sets / num_total_sets * 100)}\")\n",
        "```\n",
        "3. The `:.2f` signifies the number of decimal places that should be displayed in a floating point number. Instead of displaying `3.027754415475189` it now displays `3.03`.\n"
      ]
    },
    {
      "cell_type": "code",
      "execution_count": null,
      "metadata": {},
      "outputs": [],
      "source": []
    },
    {
      "attachments": {},
      "cell_type": "markdown",
      "id": "a4b63054",
      "metadata": {
        "id": "a4b63054"
      },
      "source": [
        "## Question 2:"
      ]
    },
    {
      "attachments": {},
      "cell_type": "markdown",
      "id": "ccd118e3",
      "metadata": {
        "id": "ccd118e3"
      },
      "source": [
        "Filter the dataset based on your created variable **isCreator**"
      ]
    },
    {
      "cell_type": "code",
      "execution_count": null,
      "id": "1f5b137c",
      "metadata": {
        "id": "1f5b137c"
      },
      "outputs": [],
      "source": []
    },
    {
      "attachments": {},
      "cell_type": "markdown",
      "id": "631fab1a",
      "metadata": {
        "id": "631fab1a"
      },
      "source": [
        "Link the data sources together so that you know which parts it contains for all sets together. \n",
        "\n",
        "You need the following tables for this:\n",
        "\n",
        "* Inventories\n",
        "* Inventory_parts\n",
        "* Parts\n",
        "* Colors\n",
        "\n",
        "This table is unique on `part_num` and `Color_id`"
      ]
    },
    {
      "cell_type": "code",
      "execution_count": null,
      "id": "c3cdf0d8",
      "metadata": {
        "id": "c3cdf0d8"
      },
      "outputs": [],
      "source": []
    },
    {
      "attachments": {},
      "cell_type": "markdown",
      "id": "ac994ec2",
      "metadata": {
        "id": "ac994ec2"
      },
      "source": [
        "## Question 3\n",
        "You are also curious how many parts you now have per category. Link your just created table to the table `Parts_Categories` and count the number of parts and sort this table descending."
      ]
    },
    {
      "cell_type": "code",
      "execution_count": null,
      "id": "bf3b3f5b",
      "metadata": {
        "id": "bf3b3f5b"
      },
      "outputs": [],
      "source": []
    },
    {
      "attachments": {},
      "cell_type": "markdown",
      "id": "9acdc411",
      "metadata": {
        "id": "9acdc411"
      },
      "source": [
        "Which category do you have the most parts from?"
      ]
    },
    {
      "cell_type": "code",
      "execution_count": null,
      "id": "76026e8e",
      "metadata": {
        "id": "76026e8e"
      },
      "outputs": [],
      "source": []
    },
    {
      "attachments": {},
      "cell_type": "markdown",
      "id": "57801604",
      "metadata": {},
      "source": [
        "What is the average number of tiles per creator set?"
      ]
    },
    {
      "cell_type": "code",
      "execution_count": null,
      "id": "de848860",
      "metadata": {},
      "outputs": [],
      "source": []
    },
    {
      "attachments": {},
      "cell_type": "markdown",
      "id": "583f3861",
      "metadata": {
        "id": "583f3861"
      },
      "source": [
        "## Question 4\n",
        "\n",
        "Determine which parts are included in the Hobby Train set (set 10183-1)."
      ]
    },
    {
      "cell_type": "code",
      "execution_count": null,
      "id": "db7f9d51",
      "metadata": {
        "id": "db7f9d51"
      },
      "outputs": [],
      "source": []
    },
    {
      "attachments": {},
      "cell_type": "markdown",
      "id": "327e25c6",
      "metadata": {
        "id": "327e25c6"
      },
      "source": [
        "Match this table with the table of all your Creator Collection items. Create a new variable that counts how much you miss of each part."
      ]
    },
    {
      "cell_type": "code",
      "execution_count": null,
      "id": "a98521a0",
      "metadata": {
        "id": "a98521a0"
      },
      "outputs": [],
      "source": []
    },
    {
      "attachments": {},
      "cell_type": "markdown",
      "id": "d962bc59",
      "metadata": {
        "id": "d962bc59"
      },
      "source": [
        "How many % of all required stones are you still missing?\n"
      ]
    },
    {
      "cell_type": "code",
      "execution_count": null,
      "id": "1f053352",
      "metadata": {
        "id": "1f053352"
      },
      "outputs": [],
      "source": []
    },
    {
      "cell_type": "markdown",
      "id": "f78ee0a2",
      "metadata": {},
      "source": [
        "What is the top 5 of the parts that you already have and the bottom 5 that you are still missing?"
      ]
    },
    {
      "cell_type": "code",
      "execution_count": null,
      "id": "39d8abe6",
      "metadata": {},
      "outputs": [],
      "source": []
    },
    {
      "attachments": {},
      "cell_type": "markdown",
      "id": "de100614",
      "metadata": {
        "id": "de100614"
      },
      "source": [
        "## Bonus\n",
        "\n",
        "You bought every set from the “Creator” theme in the year it came out. \n",
        "Make an overview per year of which parts you received."
      ]
    },
    {
      "cell_type": "code",
      "execution_count": null,
      "id": "667b17db",
      "metadata": {
        "id": "667b17db"
      },
      "outputs": [],
      "source": []
    },
    {
      "attachments": {},
      "cell_type": "markdown",
      "id": "706b7ff6",
      "metadata": {},
      "source": [
        "Make a list of unique parts that only appear in one set."
      ]
    },
    {
      "cell_type": "code",
      "execution_count": null,
      "id": "224b2d16",
      "metadata": {},
      "outputs": [],
      "source": []
    },
    {
      "attachments": {},
      "cell_type": "markdown",
      "id": "0b733921",
      "metadata": {},
      "source": [
        "Which recent set(s) (2017-now) contain the most parts you still need?"
      ]
    },
    {
      "cell_type": "code",
      "execution_count": null,
      "id": "c88a94ce",
      "metadata": {},
      "outputs": [],
      "source": []
    },
    {
      "attachments": {},
      "cell_type": "markdown",
      "id": "3582f8ef",
      "metadata": {},
      "source": [
        "Is this set still available? Answer this last question by scraping the LEGO website (tip: BeautifulSoup)"
      ]
    },
    {
      "cell_type": "code",
      "execution_count": null,
      "id": "b194905c",
      "metadata": {},
      "outputs": [],
      "source": []
    },
    {
      "attachments": {},
      "cell_type": "markdown",
      "id": "e3b7089e",
      "metadata": {
        "id": "e3b7089e"
      },
      "source": [
        "Do you know any alternative ways to answer the main question? If so, please explain how to do this."
      ]
    },
    {
      "cell_type": "code",
      "execution_count": null,
      "id": "b1108650",
      "metadata": {
        "id": "b1108650"
      },
      "outputs": [],
      "source": []
    }
  ],
  "metadata": {
    "colab": {
      "collapsed_sections": [],
      "name": "Starter.ipynb",
      "provenance": []
    },
    "kernelspec": {
      "display_name": "Python 3",
      "language": "python",
      "name": "python3"
    },
    "language_info": {
      "codemirror_mode": {
        "name": "ipython",
        "version": 3
      },
      "file_extension": ".py",
      "mimetype": "text/x-python",
      "name": "python",
      "nbconvert_exporter": "python",
      "pygments_lexer": "ipython3",
      "version": "3.11.6"
    }
  },
  "nbformat": 4,
  "nbformat_minor": 5
}
